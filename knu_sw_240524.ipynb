{
  "nbformat": 4,
  "nbformat_minor": 0,
  "metadata": {
    "colab": {
      "provenance": []
    },
    "kernelspec": {
      "name": "python3",
      "display_name": "Python 3"
    },
    "language_info": {
      "name": "python"
    }
  },
  "cells": [
    {
      "cell_type": "markdown",
      "source": [
        "# 나눗셈 계산기\n",
        "---\n",
        "#### 1. While 구문을 사용하여 올바른 계산이 수행될 때 까지 반복합니다\n",
        "#### 2. 띄어쓰기로 구별된 두 정수값을 입력받고, 각각 a,b 변수에 저장합니다\n",
        "#### 3. 나눗셈을 수행합니다\n",
        "#### 4. 만약 2번 또는 3번 과정에서 오류가 발생할 경우, 오류 메세지를 출력하고 다시 처음으로 되돌아갑니다\n",
        "#### 5. 오류 없이 수행되었다면, 계산결과를 출력하고 break 명령어로 반복문을 빠져나옵니다.\n"
      ],
      "metadata": {
        "id": "K7IzxTd0q-iw"
      }
    },
    {
      "cell_type": "code",
      "execution_count": 3,
      "metadata": {
        "colab": {
          "base_uri": "https://localhost:8080/"
        },
        "id": "FZQ6vLIAKTde",
        "outputId": "1361d7e3-f512-48e3-c059-3745a9f9e7d1"
      },
      "outputs": [
        {
          "output_type": "stream",
          "name": "stdout",
          "text": [
            "숫자 두 개를 입력해주세요 : 15 0\n",
            "다시 입력해주세요\n",
            "숫자 두 개를 입력해주세요 : 12 4\n",
            "a / b = 3.0\n"
          ]
        }
      ],
      "source": [
        "while True:\n",
        "    try:\n",
        "      a,b = map(int,input(\"숫자 두 개를 입력해주세요 : \").split())\n",
        "      c = a / b\n",
        "    except:\n",
        "      print(\"다시 입력해주세요\")\n",
        "    else:\n",
        "      print(\"a / b =\",c)\n",
        "      break"
      ]
    }
  ]
}